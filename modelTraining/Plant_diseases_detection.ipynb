{
  "cells": [
    {
      "cell_type": "code",
      "execution_count": null,
      "metadata": {
        "id": "gt0eNdVxrD4a"
      },
      "outputs": [],
      "source": [
        "!pip install kaggle"
      ]
    },
    {
      "cell_type": "code",
      "execution_count": null,
      "metadata": {
        "id": "3hekMjOujfcP"
      },
      "outputs": [],
      "source": [
        "! mkdir ~/.kaggle\n"
      ]
    },
    {
      "cell_type": "code",
      "execution_count": null,
      "metadata": {
        "id": "9L_nN8a4jopz"
      },
      "outputs": [],
      "source": [
        "! cp kaggle.json ~/.kaggle/"
      ]
    },
    {
      "cell_type": "code",
      "execution_count": null,
      "metadata": {
        "id": "m9qgKwoTjrQz"
      },
      "outputs": [],
      "source": [
        "! chmod 600 ~/.kaggle/kaggle.json"
      ]
    },
    {
      "cell_type": "code",
      "execution_count": null,
      "metadata": {
        "id": "APFEM4H3j3UV"
      },
      "outputs": [],
      "source": [
        "! kaggle datasets download vipoooool/new-plant-diseases-dataset"
      ]
    },
    {
      "cell_type": "code",
      "execution_count": null,
      "metadata": {
        "id": "eONGgybuQhxh"
      },
      "outputs": [],
      "source": [
        "!unzip new*"
      ]
    },
    {
      "cell_type": "code",
      "execution_count": null,
      "metadata": {
        "id": "qAZhd3QLR51v"
      },
      "outputs": [],
      "source": [
        "import numpy as np\n",
        "import pandas as pd\n",
        "import matplotlib.pyplot as plt\n",
        "import os\n",
        "\n",
        "import keras\n",
        "from keras.preprocessing.image import ImageDataGenerator, load_img, img_to_array\n",
        "from keras.applications.vgg19 import VGG19, preprocess_input, decode_predictions"
      ]
    },
    {
      "cell_type": "code",
      "execution_count": null,
      "metadata": {
        "id": "-ooMnyYPSmWq"
      },
      "outputs": [],
      "source": [
        "len(os.listdir(\"/content/new plant diseases dataset(augmented)/New Plant Diseases Dataset(Augmented)/train\"))"
      ]
    },
    {
      "cell_type": "code",
      "execution_count": null,
      "metadata": {
        "id": "26cXO3UUTbqw"
      },
      "outputs": [],
      "source": [
        "train_datagen = ImageDataGenerator(zoom_range=0.5, shear_range=0.3, horizontal_flip=True, preprocessing_function=preprocess_input)\n",
        "val_datagen = ImageDataGenerator(preprocessing_function=preprocess_input)"
      ]
    },
    {
      "cell_type": "code",
      "execution_count": null,
      "metadata": {
        "id": "o-gYvYKHT6mW"
      },
      "outputs": [],
      "source": [
        "train = train_datagen.flow_from_directory(directory=\"/content/new plant diseases dataset(augmented)/New Plant Diseases Dataset(Augmented)/train\", target_size=(256,256), batch_size=32)\n",
        "\n",
        "val = val_datagen.flow_from_directory(directory=\"/content/new plant diseases dataset(augmented)/New Plant Diseases Dataset(Augmented)/valid\", target_size=(256,256), batch_size=32)"
      ]
    },
    {
      "cell_type": "markdown",
      "metadata": {
        "id": "Q3h8VGHQVyVS"
      },
      "source": [
        "MODEL BUILDING"
      ]
    },
    {
      "cell_type": "code",
      "execution_count": null,
      "metadata": {
        "id": "RFNzyCOJV0yf"
      },
      "outputs": [],
      "source": [
        "from keras.layers import Dense, Flatten\n",
        "from keras.models import Model\n",
        "import keras\n",
        "from keras.applications.vgg19 import VGG19, preprocess_input, decode_predictions"
      ]
    },
    {
      "cell_type": "code",
      "execution_count": null,
      "metadata": {
        "id": "qolGxjI5WNxr"
      },
      "outputs": [],
      "source": [
        "base_model = VGG19(input_shape=(256, 256, 3), include_top=False)"
      ]
    },
    {
      "cell_type": "code",
      "execution_count": null,
      "metadata": {
        "id": "NeWfi8U5WaYq"
      },
      "outputs": [],
      "source": [
        "for layer in base_model.layers:\n",
        "  layer.trainable=False"
      ]
    },
    {
      "cell_type": "code",
      "execution_count": null,
      "metadata": {
        "id": "ezDVMM9NW4F5"
      },
      "outputs": [],
      "source": [
        "X = Flatten()(base_model.output)\n",
        "\n",
        "X = Dense(units=38, activation='softmax')(X)\n",
        "\n",
        "model = Model(base_model.input, X)"
      ]
    },
    {
      "cell_type": "code",
      "execution_count": null,
      "metadata": {
        "id": "eIJMX_l9YAUz"
      },
      "outputs": [],
      "source": [
        "model.summary()"
      ]
    },
    {
      "cell_type": "code",
      "execution_count": null,
      "metadata": {
        "id": "jxgrHI2kZlgb"
      },
      "outputs": [],
      "source": [
        "model.compile(optimizer='adam', loss = keras.losses.categorical_crossentropy, metrics=['accuracy'])"
      ]
    },
    {
      "cell_type": "code",
      "execution_count": null,
      "metadata": {
        "id": "do6b8hLtYCi5"
      },
      "outputs": [],
      "source": [
        "#early stopping and model checkpoint\n",
        "\n",
        "from keras.callbacks import ModelCheckpoint, EarlyStopping\n",
        "\n",
        "#early stopping\n",
        "es = EarlyStopping(monitor = 'val_accuracy', min_delta = 0.01, patience = 3, verbose = 1)\n",
        "\n",
        "#model checkpoint\n",
        "mc = ModelCheckpoint(filepath = \"best_model.h5\", min_delta = 0.01, patience = 3, verbose = 1, save_best_onlu = True)\n",
        "\n",
        "cb = [es, mc]"
      ]
    },
    {
      "cell_type": "code",
      "execution_count": null,
      "metadata": {
        "id": "uUG4_DfOZJyb"
      },
      "outputs": [],
      "source": [
        "his = model.fit_generator(train, steps_per_epoch=16, epochs = 50, verbose = 1, callbacks = cb, validation_data=val, validation_steps=16)"
      ]
    },
    {
      "cell_type": "code",
      "execution_count": null,
      "metadata": {
        "id": "ZeE9bfw9aeTC"
      },
      "outputs": [],
      "source": [
        "h = his.history\n",
        "h.keys()"
      ]
    },
    {
      "cell_type": "code",
      "execution_count": null,
      "metadata": {
        "id": "dBTMo94hakgw"
      },
      "outputs": [],
      "source": [
        "plt.plot(h['accuracy'])\n",
        "plt.plot(h['val_accuracy'], c = \"red\")\n",
        "plt.title(\"acc vs val_acc\")\n",
        "plt.show()"
      ]
    },
    {
      "cell_type": "code",
      "execution_count": null,
      "metadata": {
        "id": "QdoK57JsbJzl"
      },
      "outputs": [],
      "source": [
        "plt.plot(h['loss'])\n",
        "plt.plot(h['val_loss'], c = \"red\")\n",
        "plt.title(\"loss vs val_loss\")\n",
        "plt.show()"
      ]
    },
    {
      "cell_type": "code",
      "execution_count": null,
      "metadata": {
        "id": "7iWQ35v_bTyS"
      },
      "outputs": [],
      "source": [
        "#load best model\n",
        "\n",
        "from keras.models import load_model\n",
        "\n",
        "model = load_model(\"/content/best_model.h5\")"
      ]
    },
    {
      "cell_type": "code",
      "execution_count": null,
      "metadata": {
        "id": "oOpIaCsdbhEK"
      },
      "outputs": [],
      "source": [
        "acc = model.evaluate_generator(val)[1]\n",
        "\n",
        "print(f\"The accuracy of your model is = {acc*100} %\")"
      ]
    },
    {
      "cell_type": "code",
      "execution_count": null,
      "metadata": {
        "id": "HP45PSx4f3Bv"
      },
      "outputs": [],
      "source": [
        "ref = dict(zip( list(train.class_indices.values()), list(train.class_indices.keys())) )"
      ]
    },
    {
      "cell_type": "code",
      "execution_count": null,
      "metadata": {
        "id": "4haND8jUcGzM"
      },
      "outputs": [],
      "source": [
        "def prediction(path):\n",
        "\n",
        "  img = load_img(path, target_size = (256,256))\n",
        "\n",
        "  i = img_to_array(img)\n",
        "\n",
        "  im = preprocess_input(i)\n",
        "\n",
        "  img = np.expand_dims(im, axis = 0)\n",
        "\n",
        "  pred = np.argmax(model.predict(img))\n",
        "\n",
        "  print(f\" the image belongs to { ref[pred] } \")"
      ]
    },
    {
      "cell_type": "code",
      "execution_count": null,
      "metadata": {
        "id": "ebG8E_kkcvMp"
      },
      "outputs": [],
      "source": [
        "path = \"/content/test/test/AppleScab1.JPG\"\n",
        "\n",
        "prediction(path)"
      ]
    }
  ],
  "metadata": {
    "accelerator": "GPU",
    "colab": {
      "collapsed_sections": [],
      "name": "Plant_diseases_detection.ipynb",
      "provenance": []
    },
    "kernelspec": {
      "display_name": "Python 3",
      "name": "python3"
    },
    "language_info": {
      "name": "python",
      "version": "3.9.2"
    }
  },
  "nbformat": 4,
  "nbformat_minor": 0
}
